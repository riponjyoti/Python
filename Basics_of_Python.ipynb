{
 "cells": [
  {
   "cell_type": "code",
   "execution_count": 7,
   "id": "2ba4efea",
   "metadata": {},
   "outputs": [
    {
     "name": "stdout",
     "output_type": "stream",
     "text": [
      "hello world\n"
     ]
    }
   ],
   "source": [
    "print('hello world') ## ripon jyoti patir"
   ]
  },
  {
   "cell_type": "markdown",
   "id": "6d36bc22",
   "metadata": {},
   "source": [
    "### Short Cut Keys"
   ]
  },
  {
   "cell_type": "code",
   "execution_count": 8,
   "id": "b87ad99d",
   "metadata": {},
   "outputs": [
    {
     "name": "stdout",
     "output_type": "stream",
     "text": [
      "Ripon\n"
     ]
    }
   ],
   "source": [
    "print ('Ripon')"
   ]
  },
  {
   "cell_type": "markdown",
   "id": "ca2b2290",
   "metadata": {},
   "source": [
    "##### 1.Shift + Enter => Run\n",
    "##### 2.A=> Insert Cell Above\n",
    "##### 3.B=> Insert Cell Below\n",
    "##### 4.X,D=> Delete Cell"
   ]
  },
  {
   "cell_type": "code",
   "execution_count": null,
   "id": "d071c99b",
   "metadata": {},
   "outputs": [],
   "source": []
  }
 ],
 "metadata": {
  "kernelspec": {
   "display_name": "Python 3 (ipykernel)",
   "language": "python",
   "name": "python3"
  },
  "language_info": {
   "codemirror_mode": {
    "name": "ipython",
    "version": 3
   },
   "file_extension": ".py",
   "mimetype": "text/x-python",
   "name": "python",
   "nbconvert_exporter": "python",
   "pygments_lexer": "ipython3",
   "version": "3.9.12"
  }
 },
 "nbformat": 4,
 "nbformat_minor": 5
}
