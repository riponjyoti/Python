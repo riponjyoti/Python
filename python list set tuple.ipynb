{
 "cells": [
  {
   "cell_type": "code",
   "execution_count": 1,
   "id": "27fb33b1",
   "metadata": {},
   "outputs": [
    {
     "data": {
      "text/plain": [
       "6"
      ]
     },
     "execution_count": 1,
     "metadata": {},
     "output_type": "execute_result"
    }
   ],
   "source": [
    "x=(6)\n",
    "x"
   ]
  },
  {
   "cell_type": "code",
   "execution_count": 2,
   "id": "76b30992",
   "metadata": {},
   "outputs": [
    {
     "data": {
      "text/plain": [
       "int"
      ]
     },
     "execution_count": 2,
     "metadata": {},
     "output_type": "execute_result"
    }
   ],
   "source": [
    "x=(8)\n",
    "type(x)"
   ]
  },
  {
   "cell_type": "code",
   "execution_count": 3,
   "id": "422d8231",
   "metadata": {},
   "outputs": [
    {
     "data": {
      "text/plain": [
       "str"
      ]
     },
     "execution_count": 3,
     "metadata": {},
     "output_type": "execute_result"
    }
   ],
   "source": [
    "y=('ripon')\n",
    "type(y)"
   ]
  },
  {
   "cell_type": "code",
   "execution_count": 4,
   "id": "1f3fe882",
   "metadata": {},
   "outputs": [
    {
     "data": {
      "text/plain": [
       "bool"
      ]
     },
     "execution_count": 4,
     "metadata": {},
     "output_type": "execute_result"
    }
   ],
   "source": [
    "x=True\n",
    "type(x)"
   ]
  },
  {
   "cell_type": "code",
   "execution_count": 5,
   "id": "1630c234",
   "metadata": {},
   "outputs": [
    {
     "data": {
      "text/plain": [
       "float"
      ]
     },
     "execution_count": 5,
     "metadata": {},
     "output_type": "execute_result"
    }
   ],
   "source": [
    "x=(4.4)\n",
    "type(x)"
   ]
  },
  {
   "cell_type": "code",
   "execution_count": 6,
   "id": "a190eedd",
   "metadata": {},
   "outputs": [
    {
     "data": {
      "text/plain": [
       "[11, 14.4, 'girl', True]"
      ]
     },
     "execution_count": 6,
     "metadata": {},
     "output_type": "execute_result"
    }
   ],
   "source": [
    "simple_list=[11,14.4,'girl',True]\n",
    "simple_list"
   ]
  },
  {
   "cell_type": "code",
   "execution_count": 7,
   "id": "4c941ceb",
   "metadata": {},
   "outputs": [
    {
     "data": {
      "text/plain": [
       "list"
      ]
     },
     "execution_count": 7,
     "metadata": {},
     "output_type": "execute_result"
    }
   ],
   "source": [
    "type(simple_list)"
   ]
  },
  {
   "cell_type": "code",
   "execution_count": 9,
   "id": "76123d84",
   "metadata": {},
   "outputs": [
    {
     "data": {
      "text/plain": [
       "True"
      ]
     },
     "execution_count": 9,
     "metadata": {},
     "output_type": "execute_result"
    }
   ],
   "source": [
    "simple_list[3]"
   ]
  },
  {
   "cell_type": "code",
   "execution_count": 10,
   "id": "0cb10e68",
   "metadata": {},
   "outputs": [
    {
     "data": {
      "text/plain": [
       "'girl'"
      ]
     },
     "execution_count": 10,
     "metadata": {},
     "output_type": "execute_result"
    }
   ],
   "source": [
    "simple_list[2]"
   ]
  },
  {
   "cell_type": "code",
   "execution_count": 20,
   "id": "cd8cd3b8",
   "metadata": {},
   "outputs": [
    {
     "data": {
      "text/plain": [
       "[11, 14.4, 'man', True]"
      ]
     },
     "execution_count": 20,
     "metadata": {},
     "output_type": "execute_result"
    }
   ],
   "source": [
    "simple_list[2]=\"man\"\n",
    "simple_list"
   ]
  },
  {
   "cell_type": "markdown",
   "id": "9beb43a9",
   "metadata": {},
   "source": [
    "#### List is hetrogenous data type"
   ]
  },
  {
   "cell_type": "markdown",
   "id": "a3a81001",
   "metadata": {},
   "source": [
    "### List []"
   ]
  },
  {
   "cell_type": "markdown",
   "id": "5cbe5dbc",
   "metadata": {},
   "source": [
    "#### Index start from zero"
   ]
  },
  {
   "cell_type": "markdown",
   "id": "d66cc5f5",
   "metadata": {},
   "source": [
    "#### List is mutable-make changes"
   ]
  },
  {
   "cell_type": "markdown",
   "id": "e5636bc2",
   "metadata": {},
   "source": [
    "##### Tuple"
   ]
  },
  {
   "cell_type": "code",
   "execution_count": 12,
   "id": "66fd4704",
   "metadata": {},
   "outputs": [
    {
     "data": {
      "text/plain": [
       "(11, 12.4, 'girl', True)"
      ]
     },
     "execution_count": 12,
     "metadata": {},
     "output_type": "execute_result"
    }
   ],
   "source": [
    "simple_tuple=(11,12.4,'girl',True)\n",
    "simple_tuple"
   ]
  },
  {
   "cell_type": "code",
   "execution_count": 13,
   "id": "ca56f193",
   "metadata": {},
   "outputs": [
    {
     "data": {
      "text/plain": [
       "tuple"
      ]
     },
     "execution_count": 13,
     "metadata": {},
     "output_type": "execute_result"
    }
   ],
   "source": [
    "type(simple_tuple)"
   ]
  },
  {
   "cell_type": "code",
   "execution_count": 14,
   "id": "f0134a1f",
   "metadata": {},
   "outputs": [
    {
     "ename": "TypeError",
     "evalue": "'tuple' object is not callable",
     "output_type": "error",
     "traceback": [
      "\u001b[1;31m---------------------------------------------------------------------------\u001b[0m",
      "\u001b[1;31mTypeError\u001b[0m                                 Traceback (most recent call last)",
      "Input \u001b[1;32mIn [14]\u001b[0m, in \u001b[0;36m<cell line: 1>\u001b[1;34m()\u001b[0m\n\u001b[1;32m----> 1\u001b[0m \u001b[43msimple_tuple\u001b[49m\u001b[43m(\u001b[49m\u001b[38;5;241;43m1\u001b[39;49m\u001b[43m)\u001b[49m\n",
      "\u001b[1;31mTypeError\u001b[0m: 'tuple' object is not callable"
     ]
    }
   ],
   "source": [
    "simple_tuple(1)"
   ]
  },
  {
   "cell_type": "code",
   "execution_count": 15,
   "id": "36ca42a3",
   "metadata": {
    "scrolled": true
   },
   "outputs": [
    {
     "ename": "TypeError",
     "evalue": "'tuple' object does not support item assignment",
     "output_type": "error",
     "traceback": [
      "\u001b[1;31m---------------------------------------------------------------------------\u001b[0m",
      "\u001b[1;31mTypeError\u001b[0m                                 Traceback (most recent call last)",
      "Input \u001b[1;32mIn [15]\u001b[0m, in \u001b[0;36m<cell line: 1>\u001b[1;34m()\u001b[0m\n\u001b[1;32m----> 1\u001b[0m simple_tuple[\u001b[38;5;241m0\u001b[39m]\u001b[38;5;241m=\u001b[39m\u001b[38;5;241m12\u001b[39m\n\u001b[0;32m      2\u001b[0m simple_tuple\n",
      "\u001b[1;31mTypeError\u001b[0m: 'tuple' object does not support item assignment"
     ]
    }
   ],
   "source": [
    "simple_tuple[0]=12\n",
    "simple_tuple"
   ]
  },
  {
   "cell_type": "markdown",
   "id": "4b21b94f",
   "metadata": {},
   "source": [
    "##### Hetrogenous"
   ]
  },
  {
   "cell_type": "markdown",
   "id": "e84e0f20",
   "metadata": {},
   "source": [
    "##### () or without any brackets"
   ]
  },
  {
   "cell_type": "markdown",
   "id": "8096ce16",
   "metadata": {},
   "source": [
    "##### Index start from zero\n",
    "##### Immutable"
   ]
  },
  {
   "cell_type": "markdown",
   "id": "03c2a1e1",
   "metadata": {},
   "source": [
    "#### Set"
   ]
  },
  {
   "cell_type": "code",
   "execution_count": 24,
   "id": "1a33df92",
   "metadata": {},
   "outputs": [
    {
     "data": {
      "text/plain": [
       "{1, 11, 14.9, 2, 3, 32, 48, 'apple', 'hello', 'hi'}"
      ]
     },
     "execution_count": 24,
     "metadata": {},
     "output_type": "execute_result"
    }
   ],
   "source": [
    "sample_set={1,2,3,11,32,14.9,48,2,3,'hi',\"hello\",'apple'}\n",
    "sample_set"
   ]
  },
  {
   "cell_type": "code",
   "execution_count": 25,
   "id": "648aeb95",
   "metadata": {},
   "outputs": [
    {
     "ename": "TypeError",
     "evalue": "'set' object is not subscriptable",
     "output_type": "error",
     "traceback": [
      "\u001b[1;31m---------------------------------------------------------------------------\u001b[0m",
      "\u001b[1;31mTypeError\u001b[0m                                 Traceback (most recent call last)",
      "Input \u001b[1;32mIn [25]\u001b[0m, in \u001b[0;36m<cell line: 1>\u001b[1;34m()\u001b[0m\n\u001b[1;32m----> 1\u001b[0m \u001b[43msample_set\u001b[49m\u001b[43m[\u001b[49m\u001b[38;5;241;43m0\u001b[39;49m\u001b[43m]\u001b[49m\n",
      "\u001b[1;31mTypeError\u001b[0m: 'set' object is not subscriptable"
     ]
    }
   ],
   "source": [
    "sample_set[0]"
   ]
  },
  {
   "cell_type": "code",
   "execution_count": 26,
   "id": "7ae5e83c",
   "metadata": {},
   "outputs": [
    {
     "data": {
      "text/plain": [
       "{1, 100, 11, 14.9, 2, 3, 32, 48, 'apple', 'hello', 'hi'}"
      ]
     },
     "execution_count": 26,
     "metadata": {},
     "output_type": "execute_result"
    }
   ],
   "source": [
    "sample_set.add(100)\n",
    "sample_set"
   ]
  },
  {
   "cell_type": "code",
   "execution_count": 27,
   "id": "1359b26b",
   "metadata": {},
   "outputs": [
    {
     "data": {
      "text/plain": [
       "{1, 100, 11, 14.9, 2, 3, 48, 'apple', 'hello', 'hi'}"
      ]
     },
     "execution_count": 27,
     "metadata": {},
     "output_type": "execute_result"
    }
   ],
   "source": [
    "sample_set.remove(32)\n",
    "sample_set"
   ]
  },
  {
   "cell_type": "markdown",
   "id": "0a0b25e2",
   "metadata": {},
   "source": [
    "##### Hetrogenous\n",
    "##### It doesnot allow duplicates\n",
    "##### Oredering-first place"
   ]
  },
  {
   "cell_type": "markdown",
   "id": "0b2318c2",
   "metadata": {},
   "source": [
    "##### cannot access using index\n",
    "##### Mutable"
   ]
  },
  {
   "cell_type": "markdown",
   "id": "e1de2c0c",
   "metadata": {},
   "source": [
    "##### Dictionary"
   ]
  },
  {
   "cell_type": "code",
   "execution_count": 28,
   "id": "55a16441",
   "metadata": {},
   "outputs": [
    {
     "data": {
      "text/plain": [
       "{'a': 'apple', 'b': 34, 'c': 'rip', 4: 'beta'}"
      ]
     },
     "execution_count": 28,
     "metadata": {},
     "output_type": "execute_result"
    }
   ],
   "source": [
    "sample_dict={'a':'apple','b':'beta','c':'rip',4:'hi','b':34, 4:'beta'}\n",
    "sample_dict"
   ]
  },
  {
   "cell_type": "code",
   "execution_count": 30,
   "id": "8e57bde1",
   "metadata": {},
   "outputs": [
    {
     "data": {
      "text/plain": [
       "'beta'"
      ]
     },
     "execution_count": 30,
     "metadata": {},
     "output_type": "execute_result"
    }
   ],
   "source": [
    "sample_dict[4]"
   ]
  },
  {
   "cell_type": "code",
   "execution_count": 33,
   "id": "47e33519",
   "metadata": {},
   "outputs": [
    {
     "data": {
      "text/plain": [
       "{'a': 'apple', 'b': 200, 'c': 'rip', 4: 'beta'}"
      ]
     },
     "execution_count": 33,
     "metadata": {},
     "output_type": "execute_result"
    }
   ],
   "source": [
    "sample_dict['b']=200\n",
    "sample_dict"
   ]
  },
  {
   "cell_type": "markdown",
   "id": "d381119d",
   "metadata": {},
   "source": [
    "##### Dictionary has key-value pair datastructure\n",
    "##### key is uniqe and values can be duplicated\n",
    "##### Retrieve the value using key\n",
    "##### can change the value of"
   ]
  }
 ],
 "metadata": {
  "kernelspec": {
   "display_name": "Python 3 (ipykernel)",
   "language": "python",
   "name": "python3"
  },
  "language_info": {
   "codemirror_mode": {
    "name": "ipython",
    "version": 3
   },
   "file_extension": ".py",
   "mimetype": "text/x-python",
   "name": "python",
   "nbconvert_exporter": "python",
   "pygments_lexer": "ipython3",
   "version": "3.9.12"
  }
 },
 "nbformat": 4,
 "nbformat_minor": 5
}
