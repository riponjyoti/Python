{
 "cells": [
  {
   "cell_type": "code",
   "execution_count": 3,
   "id": "39f9ae2f",
   "metadata": {},
   "outputs": [
    {
     "data": {
      "text/plain": [
       "5"
      ]
     },
     "execution_count": 3,
     "metadata": {},
     "output_type": "execute_result"
    }
   ],
   "source": [
    "x=5\n",
    "x"
   ]
  },
  {
   "cell_type": "code",
   "execution_count": 4,
   "id": "62e32376",
   "metadata": {},
   "outputs": [
    {
     "data": {
      "text/plain": [
       "('aditya', 'anand', 'abhishek')"
      ]
     },
     "execution_count": 4,
     "metadata": {},
     "output_type": "execute_result"
    }
   ],
   "source": [
    "names='aditya','anand','abhishek'\n",
    "names"
   ]
  },
  {
   "cell_type": "markdown",
   "id": "2759073a",
   "metadata": {},
   "source": [
    "space is not allowed"
   ]
  },
  {
   "cell_type": "code",
   "execution_count": null,
   "id": "7eff245f",
   "metadata": {},
   "outputs": [],
   "source": [
    "sample_name='aditya','anand','abhishek'\n",
    "sample_name"
   ]
  },
  {
   "cell_type": "code",
   "execution_count": null,
   "id": "adec956b",
   "metadata": {},
   "outputs": [],
   "source": [
    "3names='aditya','anand','abhishek'\n",
    "3names"
   ]
  },
  {
   "cell_type": "code",
   "execution_count": null,
   "id": "2c20dc7e",
   "metadata": {},
   "outputs": [],
   "source": [
    "names3='aditya','anand','abhishek'\n",
    "names3"
   ]
  },
  {
   "cell_type": "code",
   "execution_count": null,
   "id": "a3424736",
   "metadata": {},
   "outputs": [],
   "source": [
    "n3ames='aditya','anand','abhishek'\n",
    "n3ames"
   ]
  },
  {
   "cell_type": "markdown",
   "id": "d7b0dc5f",
   "metadata": {},
   "source": [
    "Variable names should not start with a number"
   ]
  },
  {
   "cell_type": "code",
   "execution_count": null,
   "id": "e25d3679",
   "metadata": {},
   "outputs": [],
   "source": [
    "names='aditya','anand','abhishek'\n",
    "Names"
   ]
  },
  {
   "cell_type": "markdown",
   "id": "ddb1b776",
   "metadata": {},
   "source": [
    "Case sensitive"
   ]
  },
  {
   "cell_type": "code",
   "execution_count": null,
   "id": "c1092b86",
   "metadata": {},
   "outputs": [],
   "source": [
    "_names='aditya','anand','abhishek'\n",
    "_names"
   ]
  },
  {
   "cell_type": "code",
   "execution_count": null,
   "id": "849ca630",
   "metadata": {},
   "outputs": [],
   "source": [
    "Names='aditya','anand','abhishek'\n",
    "Names"
   ]
  },
  {
   "cell_type": "code",
   "execution_count": null,
   "id": "e1ed911b",
   "metadata": {},
   "outputs": [],
   "source": [
    "names='aditya','anand','abhishek'\n",
    "names"
   ]
  },
  {
   "cell_type": "code",
   "execution_count": null,
   "id": "58935631",
   "metadata": {},
   "outputs": [],
   "source": [
    "sample+name='aditya','anand','abhishek'\n",
    "sample+name"
   ]
  },
  {
   "cell_type": "markdown",
   "id": "733cddbd",
   "metadata": {},
   "source": [
    "The only allowed special character is underscore"
   ]
  },
  {
   "cell_type": "markdown",
   "id": "d6aff1e5",
   "metadata": {},
   "source": [
    "Variable names start with A-Z or a-z or_"
   ]
  },
  {
   "cell_type": "code",
   "execution_count": null,
   "id": "7db074de",
   "metadata": {},
   "outputs": [],
   "source": []
  }
 ],
 "metadata": {
  "kernelspec": {
   "display_name": "Python 3 (ipykernel)",
   "language": "python",
   "name": "python3"
  },
  "language_info": {
   "codemirror_mode": {
    "name": "ipython",
    "version": 3
   },
   "file_extension": ".py",
   "mimetype": "text/x-python",
   "name": "python",
   "nbconvert_exporter": "python",
   "pygments_lexer": "ipython3",
   "version": "3.9.12"
  }
 },
 "nbformat": 4,
 "nbformat_minor": 5
}
