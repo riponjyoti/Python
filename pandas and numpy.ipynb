{
 "cells": [
  {
   "cell_type": "code",
   "execution_count": 6,
   "id": "115e6178",
   "metadata": {},
   "outputs": [],
   "source": [
    "import numpy as np\n",
    "import pandas as pd"
   ]
  },
  {
   "cell_type": "code",
   "execution_count": 4,
   "id": "5c8b473e",
   "metadata": {},
   "outputs": [
    {
     "data": {
      "text/plain": [
       "array(['Golf', 'basketball', 'cricket', 'golf'], dtype='<U10')"
      ]
     },
     "execution_count": 4,
     "metadata": {},
     "output_type": "execute_result"
    }
   ],
   "source": [
    "sports=np.array(['golf','cricket','basketball','Golf','Golf'])\n",
    "np.unique(sports)"
   ]
  },
  {
   "cell_type": "code",
   "execution_count": 13,
   "id": "4db719c6",
   "metadata": {},
   "outputs": [],
   "source": [
    "import pandas as pd\n",
    "import numpy as np"
   ]
  },
  {
   "cell_type": "code",
   "execution_count": 11,
   "id": "4422c5e3",
   "metadata": {},
   "outputs": [],
   "source": [
    "label=['w','x','y','z']\n",
    "sample_list=[100,200,300,400]\n",
    "array=np.array([1,2,3,4])\n",
    "dict={'w':10,'x':20,'y':30,'z':40}"
   ]
  },
  {
   "cell_type": "code",
   "execution_count": 15,
   "id": "37f3bc09",
   "metadata": {},
   "outputs": [
    {
     "data": {
      "text/plain": [
       "0    100\n",
       "1    200\n",
       "2    300\n",
       "3    400\n",
       "dtype: int64"
      ]
     },
     "execution_count": 15,
     "metadata": {},
     "output_type": "execute_result"
    }
   ],
   "source": [
    "pd.Series(data=sample_list)"
   ]
  },
  {
   "cell_type": "code",
   "execution_count": 16,
   "id": "246b00a6",
   "metadata": {},
   "outputs": [
    {
     "data": {
      "text/plain": [
       "1    100\n",
       "2    200\n",
       "3    300\n",
       "4    400\n",
       "dtype: int64"
      ]
     },
     "execution_count": 16,
     "metadata": {},
     "output_type": "execute_result"
    }
   ],
   "source": [
    "pd.Series(data=sample_list,index=array)"
   ]
  },
  {
   "cell_type": "code",
   "execution_count": 18,
   "id": "cb436514",
   "metadata": {},
   "outputs": [
    {
     "data": {
      "text/plain": [
       "w    1\n",
       "x    2\n",
       "y    3\n",
       "z    4\n",
       "dtype: int32"
      ]
     },
     "execution_count": 18,
     "metadata": {},
     "output_type": "execute_result"
    }
   ],
   "source": [
    "pd.Series(array,label)"
   ]
  },
  {
   "cell_type": "code",
   "execution_count": 19,
   "id": "9698519d",
   "metadata": {},
   "outputs": [
    {
     "data": {
      "text/plain": [
       "w    10\n",
       "x    20\n",
       "y    30\n",
       "z    40\n",
       "dtype: int64"
      ]
     },
     "execution_count": 19,
     "metadata": {},
     "output_type": "execute_result"
    }
   ],
   "source": [
    "pd.Series(dict)"
   ]
  },
  {
   "cell_type": "markdown",
   "id": "b26652b8",
   "metadata": {},
   "source": [
    "##### Pandas dataframe and indexing"
   ]
  },
  {
   "cell_type": "code",
   "execution_count": 21,
   "id": "dcc85ee2",
   "metadata": {},
   "outputs": [],
   "source": [
    "sports1=pd.Series([1,2,3,4],index=['cricket','football','basketball','golf'])"
   ]
  },
  {
   "cell_type": "code",
   "execution_count": 22,
   "id": "a0aba5cf",
   "metadata": {},
   "outputs": [
    {
     "data": {
      "text/plain": [
       "1"
      ]
     },
     "execution_count": 22,
     "metadata": {},
     "output_type": "execute_result"
    }
   ],
   "source": [
    "sports1['cricket']"
   ]
  },
  {
   "cell_type": "code",
   "execution_count": 24,
   "id": "7a2ffb3f",
   "metadata": {},
   "outputs": [
    {
     "data": {
      "text/plain": [
       "4"
      ]
     },
     "execution_count": 24,
     "metadata": {},
     "output_type": "execute_result"
    }
   ],
   "source": [
    "sports1['golf']"
   ]
  },
  {
   "cell_type": "code",
   "execution_count": 25,
   "id": "847a191b",
   "metadata": {},
   "outputs": [
    {
     "data": {
      "text/plain": [
       "cricket     11\n",
       "football     2\n",
       "baseball     3\n",
       "golf         4\n",
       "dtype: int64"
      ]
     },
     "execution_count": 25,
     "metadata": {},
     "output_type": "execute_result"
    }
   ],
   "source": [
    "sports2=pd.Series([11,2,3,4],index=['cricket','football','baseball','golf'])\n",
    "sports2"
   ]
  },
  {
   "cell_type": "code",
   "execution_count": 27,
   "id": "5d81fa83",
   "metadata": {},
   "outputs": [
    {
     "data": {
      "text/plain": [
       "baseball       NaN\n",
       "basketball     NaN\n",
       "cricket       12.0\n",
       "football       4.0\n",
       "golf           8.0\n",
       "dtype: float64"
      ]
     },
     "execution_count": 27,
     "metadata": {},
     "output_type": "execute_result"
    }
   ],
   "source": [
    "sports1+sports2"
   ]
  },
  {
   "cell_type": "code",
   "execution_count": 33,
   "id": "440a4c93",
   "metadata": {},
   "outputs": [
    {
     "data": {
      "text/html": [
       "<div>\n",
       "<style scoped>\n",
       "    .dataframe tbody tr th:only-of-type {\n",
       "        vertical-align: middle;\n",
       "    }\n",
       "\n",
       "    .dataframe tbody tr th {\n",
       "        vertical-align: top;\n",
       "    }\n",
       "\n",
       "    .dataframe thead th {\n",
       "        text-align: right;\n",
       "    }\n",
       "</style>\n",
       "<table border=\"1\" class=\"dataframe\">\n",
       "  <thead>\n",
       "    <tr style=\"text-align: right;\">\n",
       "      <th></th>\n",
       "      <th>Score1</th>\n",
       "      <th>Score2</th>\n",
       "      <th>Score3</th>\n",
       "      <th>Score4</th>\n",
       "      <th>Score5</th>\n",
       "    </tr>\n",
       "  </thead>\n",
       "  <tbody>\n",
       "    <tr>\n",
       "      <th>A</th>\n",
       "      <td>0.651377</td>\n",
       "      <td>-0.116936</td>\n",
       "      <td>-0.968208</td>\n",
       "      <td>-1.068812</td>\n",
       "      <td>0.281713</td>\n",
       "    </tr>\n",
       "    <tr>\n",
       "      <th>B</th>\n",
       "      <td>-0.824801</td>\n",
       "      <td>1.465699</td>\n",
       "      <td>2.173970</td>\n",
       "      <td>0.176685</td>\n",
       "      <td>-0.241011</td>\n",
       "    </tr>\n",
       "    <tr>\n",
       "      <th>C</th>\n",
       "      <td>-0.707628</td>\n",
       "      <td>0.918172</td>\n",
       "      <td>-0.370845</td>\n",
       "      <td>-0.008748</td>\n",
       "      <td>-0.428472</td>\n",
       "    </tr>\n",
       "    <tr>\n",
       "      <th>D</th>\n",
       "      <td>-0.959544</td>\n",
       "      <td>-0.391713</td>\n",
       "      <td>0.901153</td>\n",
       "      <td>-0.855050</td>\n",
       "      <td>-0.805963</td>\n",
       "    </tr>\n",
       "    <tr>\n",
       "      <th>E</th>\n",
       "      <td>-0.522872</td>\n",
       "      <td>-0.833287</td>\n",
       "      <td>-0.838651</td>\n",
       "      <td>-2.304603</td>\n",
       "      <td>-0.458152</td>\n",
       "    </tr>\n",
       "    <tr>\n",
       "      <th>F</th>\n",
       "      <td>0.326888</td>\n",
       "      <td>-0.690695</td>\n",
       "      <td>-0.200333</td>\n",
       "      <td>-0.183760</td>\n",
       "      <td>-0.318698</td>\n",
       "    </tr>\n",
       "    <tr>\n",
       "      <th>G</th>\n",
       "      <td>-0.312929</td>\n",
       "      <td>-0.777261</td>\n",
       "      <td>0.006649</td>\n",
       "      <td>0.763168</td>\n",
       "      <td>-0.487918</td>\n",
       "    </tr>\n",
       "    <tr>\n",
       "      <th>H</th>\n",
       "      <td>-0.732094</td>\n",
       "      <td>-0.448988</td>\n",
       "      <td>-1.144438</td>\n",
       "      <td>0.811371</td>\n",
       "      <td>2.718569</td>\n",
       "    </tr>\n",
       "  </tbody>\n",
       "</table>\n",
       "</div>"
      ],
      "text/plain": [
       "     Score1    Score2    Score3    Score4    Score5\n",
       "A  0.651377 -0.116936 -0.968208 -1.068812  0.281713\n",
       "B -0.824801  1.465699  2.173970  0.176685 -0.241011\n",
       "C -0.707628  0.918172 -0.370845 -0.008748 -0.428472\n",
       "D -0.959544 -0.391713  0.901153 -0.855050 -0.805963\n",
       "E -0.522872 -0.833287 -0.838651 -2.304603 -0.458152\n",
       "F  0.326888 -0.690695 -0.200333 -0.183760 -0.318698\n",
       "G -0.312929 -0.777261  0.006649  0.763168 -0.487918\n",
       "H -0.732094 -0.448988 -1.144438  0.811371  2.718569"
      ]
     },
     "execution_count": 33,
     "metadata": {},
     "output_type": "execute_result"
    }
   ],
   "source": [
    "df1=pd.DataFrame(np.random.randn(8,5),index='A B C D E F G H '.split(),columns='Score1 Score2 Score3 Score4 Score5'.split())\n",
    "df1"
   ]
  },
  {
   "cell_type": "code",
   "execution_count": null,
   "id": "a877b4fc",
   "metadata": {},
   "outputs": [],
   "source": []
  }
 ],
 "metadata": {
  "kernelspec": {
   "display_name": "Python 3 (ipykernel)",
   "language": "python",
   "name": "python3"
  },
  "language_info": {
   "codemirror_mode": {
    "name": "ipython",
    "version": 3
   },
   "file_extension": ".py",
   "mimetype": "text/x-python",
   "name": "python",
   "nbconvert_exporter": "python",
   "pygments_lexer": "ipython3",
   "version": "3.9.12"
  }
 },
 "nbformat": 4,
 "nbformat_minor": 5
}
